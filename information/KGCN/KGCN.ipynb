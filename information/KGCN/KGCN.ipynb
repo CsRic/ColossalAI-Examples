{
 "cells": [
  {
   "cell_type": "code",
   "execution_count": 2,
   "metadata": {
    "tags": []
   },
   "outputs": [],
   "source": [
    "import pandas as pd\n",
    "import numpy as np\n",
    "import argparse\n",
    "import random\n",
    "from model import KGCN\n",
    "from data_loader import DataLoader\n",
    "import torch\n",
    "import torch.optim as optim\n",
    "from sklearn.model_selection import train_test_split\n",
    "import matplotlib.pyplot as plt\n",
    "from sklearn.metrics import roc_auc_score"
   ]
  },
  {
   "cell_type": "code",
   "execution_count": 3,
   "metadata": {},
   "outputs": [],
   "source": [
    "# prepare arguments (hyperparameters)\n",
    "parser = argparse.ArgumentParser()\n",
    "\n",
    "parser.add_argument('--dataset', type=str, default='music', help='which dataset to use')\n",
    "parser.add_argument('--aggregator', type=str, default='sum', help='which aggregator to use')\n",
    "parser.add_argument('--n_epochs', type=int, default=20, help='the number of epochs')\n",
    "parser.add_argument('--neighbor_sample_size', type=int, default=8, help='the number of neighbors to be sampled')\n",
    "parser.add_argument('--dim', type=int, default=16, help='dimension of user and entity embeddings')\n",
    "parser.add_argument('--n_iter', type=int, default=1, help='number of iterations when computing entity representation')\n",
    "parser.add_argument('--batch_size', type=int, default=32, help='batch size')\n",
    "parser.add_argument('--l2_weight', type=float, default=1e-4, help='weight of l2 regularization')\n",
    "parser.add_argument('--lr', type=float, default=5e-4, help='learning rate')\n",
    "parser.add_argument('--ratio', type=float, default=0.8, help='size of training dataset')\n",
    "\n",
    "args = parser.parse_args(['--l2_weight', '1e-4'])"
   ]
  },
  {
   "cell_type": "code",
   "execution_count": 4,
   "metadata": {
    "tags": []
   },
   "outputs": [
    {
     "name": "stdout",
     "output_type": "stream",
     "text": [
      "Construct knowledge graph ... Done\n",
      "Build dataset dataframe ... Done\n"
     ]
    },
    {
     "data": {
      "text/html": [
       "<div>\n",
       "<style scoped>\n",
       "    .dataframe tbody tr th:only-of-type {\n",
       "        vertical-align: middle;\n",
       "    }\n",
       "\n",
       "    .dataframe tbody tr th {\n",
       "        vertical-align: top;\n",
       "    }\n",
       "\n",
       "    .dataframe thead th {\n",
       "        text-align: right;\n",
       "    }\n",
       "</style>\n",
       "<table border=\"1\" class=\"dataframe\">\n",
       "  <thead>\n",
       "    <tr style=\"text-align: right;\">\n",
       "      <th></th>\n",
       "      <th>userID</th>\n",
       "      <th>itemID</th>\n",
       "      <th>label</th>\n",
       "    </tr>\n",
       "  </thead>\n",
       "  <tbody>\n",
       "    <tr>\n",
       "      <th>0</th>\n",
       "      <td>1217</td>\n",
       "      <td>289</td>\n",
       "      <td>1</td>\n",
       "    </tr>\n",
       "    <tr>\n",
       "      <th>1</th>\n",
       "      <td>1648</td>\n",
       "      <td>548</td>\n",
       "      <td>0</td>\n",
       "    </tr>\n",
       "    <tr>\n",
       "      <th>2</th>\n",
       "      <td>596</td>\n",
       "      <td>6674</td>\n",
       "      <td>0</td>\n",
       "    </tr>\n",
       "    <tr>\n",
       "      <th>3</th>\n",
       "      <td>475</td>\n",
       "      <td>57</td>\n",
       "      <td>1</td>\n",
       "    </tr>\n",
       "    <tr>\n",
       "      <th>4</th>\n",
       "      <td>1450</td>\n",
       "      <td>6838</td>\n",
       "      <td>0</td>\n",
       "    </tr>\n",
       "    <tr>\n",
       "      <th>...</th>\n",
       "      <td>...</td>\n",
       "      <td>...</td>\n",
       "      <td>...</td>\n",
       "    </tr>\n",
       "    <tr>\n",
       "      <th>42341</th>\n",
       "      <td>1778</td>\n",
       "      <td>6300</td>\n",
       "      <td>0</td>\n",
       "    </tr>\n",
       "    <tr>\n",
       "      <th>42342</th>\n",
       "      <td>519</td>\n",
       "      <td>4</td>\n",
       "      <td>1</td>\n",
       "    </tr>\n",
       "    <tr>\n",
       "      <th>42343</th>\n",
       "      <td>1487</td>\n",
       "      <td>2879</td>\n",
       "      <td>1</td>\n",
       "    </tr>\n",
       "    <tr>\n",
       "      <th>42344</th>\n",
       "      <td>1115</td>\n",
       "      <td>36</td>\n",
       "      <td>1</td>\n",
       "    </tr>\n",
       "    <tr>\n",
       "      <th>42345</th>\n",
       "      <td>793</td>\n",
       "      <td>3667</td>\n",
       "      <td>0</td>\n",
       "    </tr>\n",
       "  </tbody>\n",
       "</table>\n",
       "<p>42346 rows × 3 columns</p>\n",
       "</div>"
      ],
      "text/plain": [
       "       userID  itemID  label\n",
       "0        1217     289      1\n",
       "1        1648     548      0\n",
       "2         596    6674      0\n",
       "3         475      57      1\n",
       "4        1450    6838      0\n",
       "...       ...     ...    ...\n",
       "42341    1778    6300      0\n",
       "42342     519       4      1\n",
       "42343    1487    2879      1\n",
       "42344    1115      36      1\n",
       "42345     793    3667      0\n",
       "\n",
       "[42346 rows x 3 columns]"
      ]
     },
     "execution_count": 4,
     "metadata": {},
     "output_type": "execute_result"
    }
   ],
   "source": [
    "# build dataset and knowledge graph\n",
    "data_loader = DataLoader(args.dataset)\n",
    "kg = data_loader.load_kg()\n",
    "df_dataset = data_loader.load_dataset()\n",
    "df_dataset"
   ]
  },
  {
   "cell_type": "code",
   "execution_count": 5,
   "metadata": {},
   "outputs": [],
   "source": [
    "# Dataset class\n",
    "class KGCNDataset(torch.utils.data.Dataset):\n",
    "    def __init__(self, df):\n",
    "        self.df = df\n",
    "    def __len__(self):\n",
    "        return len(self.df)\n",
    "    def __getitem__(self, idx):\n",
    "        user_id = np.array(self.df.iloc[idx]['userID'])\n",
    "        item_id = np.array(self.df.iloc[idx]['itemID'])\n",
    "        label = np.array(self.df.iloc[idx]['label'], dtype=np.float32)\n",
    "        return user_id, item_id, label"
   ]
  },
  {
   "cell_type": "code",
   "execution_count": 6,
   "metadata": {},
   "outputs": [],
   "source": [
    "# train test split\n",
    "x_train, x_test, y_train, y_test = train_test_split(df_dataset, df_dataset['label'], test_size=1 - args.ratio, shuffle=False, random_state=999)\n",
    "train_dataset = KGCNDataset(x_train)\n",
    "test_dataset = KGCNDataset(x_test)\n",
    "train_loader = torch.utils.data.DataLoader(train_dataset, batch_size=args.batch_size)\n",
    "test_loader = torch.utils.data.DataLoader(test_dataset, batch_size=args.batch_size)"
   ]
  },
  {
   "cell_type": "code",
   "execution_count": 7,
   "metadata": {},
   "outputs": [
    {
     "name": "stdout",
     "output_type": "stream",
     "text": [
      "device:  cuda\n"
     ]
    }
   ],
   "source": [
    "# prepare network, loss function, optimizer\n",
    "num_user, num_entity, num_relation = data_loader.get_num()\n",
    "user_encoder, entity_encoder, relation_encoder = data_loader.get_encoders()\n",
    "device = torch.device('cuda' if torch.cuda.is_available() else 'cpu')\n",
    "net = KGCN(num_user, num_entity, num_relation, kg, args, device).to(device)\n",
    "criterion = torch.nn.BCELoss()\n",
    "optimizer = optim.Adam(net.parameters(), lr=args.lr, weight_decay=args.l2_weight)\n",
    "print('device: ', device)"
   ]
  },
  {
   "cell_type": "code",
   "execution_count": 8,
   "metadata": {},
   "outputs": [
    {
     "name": "stdout",
     "output_type": "stream",
     "text": [
      "[Epoch 1]train_loss:  0.9956618829984728\n",
      "[Epoch 1]test_loss:  0.8849762293527711\n",
      "[Epoch 2]train_loss:  0.7865819377759586\n",
      "[Epoch 2]test_loss:  0.7401427721077541\n",
      "[Epoch 3]train_loss:  0.705809528136501\n",
      "[Epoch 3]test_loss:  0.7052344005062895\n",
      "[Epoch 4]train_loss:  0.6916165705893376\n",
      "[Epoch 4]test_loss:  0.698655621960478\n",
      "[Epoch 5]train_loss:  0.6881712635133039\n",
      "[Epoch 5]test_loss:  0.6964548441599\n",
      "[Epoch 6]train_loss:  0.6857761470521814\n",
      "[Epoch 6]test_loss:  0.6950240108202088\n",
      "[Epoch 7]train_loss:  0.6830406034746972\n",
      "[Epoch 7]test_loss:  0.6934898392209466\n",
      "[Epoch 8]train_loss:  0.678795673635571\n",
      "[Epoch 8]test_loss:  0.6907254484464538\n",
      "[Epoch 9]train_loss:  0.6701208127344184\n",
      "[Epoch 9]test_loss:  0.6833513437577013\n",
      "[Epoch 10]train_loss:  0.6491736124099933\n",
      "[Epoch 10]test_loss:  0.6606258054949202\n",
      "[Epoch 11]train_loss:  0.5992733645653027\n",
      "[Epoch 11]test_loss:  0.6058815533260129\n",
      "[Epoch 12]train_loss:  0.5199651475556061\n",
      "[Epoch 12]test_loss:  0.5442356286183843\n",
      "[Epoch 13]train_loss:  0.452322228068558\n",
      "[Epoch 13]test_loss:  0.5088757483464367\n",
      "[Epoch 14]train_loss:  0.41026171073810014\n",
      "[Epoch 14]test_loss:  0.4921159023383878\n",
      "[Epoch 15]train_loss:  0.3835067528531279\n",
      "[Epoch 15]test_loss:  0.4838947615533505\n",
      "[Epoch 16]train_loss:  0.3646283135366845\n",
      "[Epoch 16]test_loss:  0.47971545041732067\n",
      "[Epoch 17]train_loss:  0.3500284784463805\n",
      "[Epoch 17]test_loss:  0.47746732977201356\n",
      "[Epoch 18]train_loss:  0.3379362744751463\n",
      "[Epoch 18]test_loss:  0.4762220961867638\n",
      "[Epoch 19]train_loss:  0.32743247752486815\n",
      "[Epoch 19]test_loss:  0.4754841997376028\n",
      "[Epoch 20]train_loss:  0.3179785472334726\n",
      "[Epoch 20]test_loss:  0.47498992130441486\n"
     ]
    }
   ],
   "source": [
    "# train\n",
    "loss_list = []\n",
    "test_loss_list = []\n",
    "auc_score_list = []\n",
    "\n",
    "for epoch in range(args.n_epochs):\n",
    "    running_loss = 0.0\n",
    "    for i, (user_ids, item_ids, labels) in enumerate(train_loader):\n",
    "        user_ids, item_ids, labels = user_ids.to(device), item_ids.to(device), labels.to(device)\n",
    "        optimizer.zero_grad()\n",
    "        outputs = net(user_ids, item_ids)\n",
    "        loss = criterion(outputs, labels)\n",
    "        loss.backward()\n",
    "        \n",
    "        optimizer.step()\n",
    "\n",
    "        running_loss += loss.item()\n",
    "    \n",
    "    # print train loss per every epoch\n",
    "    print('[Epoch {}]train_loss: '.format(epoch+1), running_loss / len(train_loader))\n",
    "    loss_list.append(running_loss / len(train_loader))\n",
    "        \n",
    "    # evaluate per every epoch\n",
    "    with torch.no_grad():\n",
    "        test_loss = 0\n",
    "        total_roc = 0\n",
    "        for user_ids, item_ids, labels in test_loader:\n",
    "            user_ids, item_ids, labels = user_ids.to(device), item_ids.to(device), labels.to(device)\n",
    "            outputs = net(user_ids, item_ids)\n",
    "            test_loss += criterion(outputs, labels).item()\n",
    "            total_roc += roc_auc_score(labels.cpu().detach().numpy(), outputs.cpu().detach().numpy())\n",
    "        print('[Epoch {}]test_loss: '.format(epoch+1), test_loss / len(test_loader))\n",
    "        test_loss_list.append(test_loss / len(test_loader))\n",
    "        auc_score_list.append(total_roc / len(test_loader))"
   ]
  },
  {
   "cell_type": "code",
   "execution_count": 9,
   "metadata": {},
   "outputs": [
    {
     "data": {
      "image/png": "[encoded data removed]",
      "text/plain": [
       "<Figure size 720x288 with 2 Axes>"
      ]
     },
     "metadata": {
      "needs_background": "light"
     },
     "output_type": "display_data"
    }
   ],
   "source": [
    "# plot losses / scores\n",
    "fig, (ax1,ax2) = plt.subplots(1,2, figsize=(10,4))  # 1 row, 2 columns\n",
    "ax1.plot(loss_list)\n",
    "ax1.plot(test_loss_list)\n",
    "ax2.plot(auc_score_list)\n",
    "\n",
    "plt.tight_layout()"
   ]
  }
 ],
 "metadata": {
  "kernelspec": {
   "display_name": "Python 3",
   "language": "python",
   "name": "python3"
  },
  "language_info": {
   "codemirror_mode": {
    "name": "ipython",
    "version": 3
   },
   "file_extension": ".py",
   "mimetype": "text/x-python",
   "name": "python",
   "nbconvert_exporter": "python",
   "pygments_lexer": "ipython3",
   "version": "3.8.10"
  }
 },
 "nbformat": 4,
 "nbformat_minor": 4
}
